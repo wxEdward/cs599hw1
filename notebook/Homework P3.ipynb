{
 "cells": [
  {
   "cell_type": "code",
   "execution_count": 93,
   "metadata": {},
   "outputs": [],
   "source": [
    "import numpy as np\n",
    "import networkx as nx\n",
    "import pandas as pd\n",
    "import time"
   ]
  },
  {
   "cell_type": "markdown",
   "metadata": {},
   "source": [
    "# Load ca-GrQc"
   ]
  },
  {
   "cell_type": "code",
   "execution_count": 94,
   "metadata": {},
   "outputs": [],
   "source": [
    "def load_ca_grqc():\n",
    "    data = pd.read_csv('CA-GrQc.txt', sep=\"\\t\", skiprows=3)\n",
    "    records = data.to_records(index=False)\n",
    "    edges = list(records)\n",
    "    G = nx.DiGraph()\n",
    "    G.add_edges_from(edges)\n",
    "    \n",
    "    return G"
   ]
  },
  {
   "cell_type": "markdown",
   "metadata": {},
   "source": [
    "# Load github social"
   ]
  },
  {
   "cell_type": "code",
   "execution_count": 95,
   "metadata": {},
   "outputs": [],
   "source": [
    "def load_github_social():\n",
    "    data = pd.read_csv('git_web_ml/musae_git_edges.csv')\n",
    "    records = data.to_records(index=False)\n",
    "    edges = list(records)\n",
    "    G = nx.Graph()\n",
    "    G.add_edges_from(edges)\n",
    "    return G"
   ]
  },
  {
   "cell_type": "markdown",
   "metadata": {},
   "source": [
    "# Load web-berkstan"
   ]
  },
  {
   "cell_type": "code",
   "execution_count": 96,
   "metadata": {},
   "outputs": [],
   "source": [
    "def load_web_berkstan():\n",
    "    data = pd.read_csv('web-BerkStan.txt', sep=\"\\t\", skiprows=3)\n",
    "\n",
    "    records = data.to_records(index=False)\n",
    "    edges = list(records)\n",
    "    G = nx.DiGraph()\n",
    "    G.add_edges_from(edges)\n",
    "    \n",
    "    return G"
   ]
  },
  {
   "cell_type": "markdown",
   "metadata": {},
   "source": [
    "## Chiba-Nishizeki"
   ]
  },
  {
   "cell_type": "code",
   "execution_count": 97,
   "metadata": {},
   "outputs": [],
   "source": [
    "def Chiba_Nishizeki(G):\n",
    "    nodes_degree_sorted = sorted(G.degree, key=lambda x: x[1], reverse=True)\n",
    "    nodes_sorted = [x[0] for x in nodes_degree_sorted]\n",
    "    num_nodes = len(G.nodes)\n",
    "    mark_dict = dict(zip(nodes_sorted,np.zeros(num_nodes)))\n",
    "    triangle_list = []\n",
    "    \n",
    "    for i in range(num_nodes-2):\n",
    "        v = nodes_sorted[i]\n",
    "        for u in G.neighbors(v):\n",
    "            mark_dict[u] = 1  \n",
    "        for u in G.neighbors(v):\n",
    "            for w in G.neighbors(u):\n",
    "                if(w!=v and mark_dict[w]==1):\n",
    "                    triangle_list.append((v,u,w))\n",
    "            mark_dict[u] = 0   \n",
    "        G.remove_node(v)\n",
    "        \n",
    "    return triangle_list"
   ]
  },
  {
   "cell_type": "markdown",
   "metadata": {},
   "source": [
    "## Trie Iterator"
   ]
  },
  {
   "cell_type": "code",
   "execution_count": null,
   "metadata": {},
   "outputs": [],
   "source": [
    "class iterator:\n",
    "    \"\"\"\n",
    "    Parameters:\n",
    "        G: graph to iterator\n",
    "        depth_nodes: nodes at each depth. If depth==0, iterate over all nodes. If depth==1, iterate over neighbors\n",
    "            of specific nodes.\n",
    "        depth: current depth the iterator is at\n",
    "        depth_idx: index of node that the iterator is stopped at for each depth.\n",
    "        current_node: current node the iterator is at\n",
    "    \"\"\"\n",
    "    \n",
    "    def __init__(self,G):\n",
    "        self.atEnd = False;\n",
    "        self.G = G\n",
    "        self.depth_nodes = [sorted(list(self.G.nodes)),[]]\n",
    "        self.depth = -1\n",
    "        self.depth_idx = [0,0]\n",
    "        self.current_node = None  \n",
    "    \n",
    "    def key(self):\n",
    "        return self.current_node\n",
    "    \n",
    "    def next(self):\n",
    "        self.depth_idx[self.depth]+=1\n",
    "        if(self.itr_atEnd() != True):\n",
    "            self.current_node = (self.depth_nodes[self.depth])[self.depth_idx[self.depth]]\n",
    "        else:\n",
    "            self.current_node = None\n",
    "    \n",
    "    def seek(self,seekKey=0):\n",
    "        if(self.current_node!=None and seekKey!=None):\n",
    "            while(self.current_node<seekKey):\n",
    "                if(self.itr_atEnd()!=True):\n",
    "                    self.next()\n",
    "                else:\n",
    "                    break\n",
    "                \n",
    "                if(self.itr_atEnd()==True):\n",
    "                    break\n",
    "        \n",
    "    def itr_atEnd(self):\n",
    "        if (self.depth_idx[self.depth]==len(self.depth_nodes[self.depth])):\n",
    "            return True\n",
    "        else:\n",
    "            return False\n",
    "    \n",
    "    def open(self):\n",
    "        if(self.depth==-1):\n",
    "            self.depth+=1\n",
    "            self.current_node = (self.depth_nodes[self.depth])[self.depth_idx[self.depth]]\n",
    "        elif(self.depth==0):\n",
    "            neighbors = sorted(list(self.G.neighbors(self.current_node)))\n",
    "            neighbors = [i for i in neighbors if i>self.current_node]\n",
    "            self.depth+=1\n",
    "            if(len(neighbors)==0):\n",
    "                self.current_node=None\n",
    "                self.depth_nodes[self.depth] = neighbors\n",
    "            else:\n",
    "                self.depth_nodes[self.depth] = neighbors\n",
    "                self.current_node = (self.depth_nodes[self.depth])[0]\n",
    "        #print(self.depth)\n",
    "        \n",
    "    def up(self):\n",
    "        self.depth_idx[self.depth] = 0\n",
    "        self.depth -= 1\n",
    "        #print(self.depth)\n",
    "        if(self.depth==-1):\n",
    "            self.current_node = None\n",
    "        else:\n",
    "            self.current_node = (self.depth_nodes[self.depth])[self.depth_idx[self.depth]]\n",
    "        \n",
    "    def depth(self):\n",
    "        return self.depth\n",
    "        \n",
    "    def get_end(self):\n",
    "        return self.atEnd"
   ]
  },
  {
   "cell_type": "markdown",
   "metadata": {},
   "source": [
    "## Leapfrog join"
   ]
  },
  {
   "cell_type": "code",
   "execution_count": 99,
   "metadata": {},
   "outputs": [],
   "source": [
    "class leapfrog_join:\n",
    "    \"\"\"\n",
    "    Parameters:\n",
    "        iterators: list of iterators that this join is using\n",
    "        k: number of iterators\n",
    "        p: index of current using iterator\n",
    "        atEnd: whether this join is finished\n",
    "        depth: indicates the variable that this leapfrog join is care about. \n",
    "                Suppose do triejoin between R(a,b), S(b,c), T(a,c), we have depth 0 for a, 1 for b, 2 for c\n",
    "    \"\"\"\n",
    "    def __init__(self,iterators,depth):\n",
    "        self.iterators = iterators\n",
    "        self.k = len(iterators)\n",
    "        self.p = 0\n",
    "        self.atEnd = False\n",
    "        self.depth = depth\n",
    "        \n",
    "    #After init, the first result is received    \n",
    "    def leapfrog_init(self):\n",
    "        for it in self.iterators:\n",
    "            if(it.itr_atEnd()==True):\n",
    "                self.atEnd = True\n",
    "                return None\n",
    "        count = -1\n",
    "        for it in self.iterators:\n",
    "            count += 1\n",
    "            if(it.key()==None):\n",
    "                print(\"false\",count)\n",
    "\n",
    "        self.atEnd = False\n",
    "        self.iterators = sorted(self.iterators,key=lambda itr: itr.key())\n",
    "        self.p = 0\n",
    "        return self.leapfrog_search()\n",
    "\n",
    "    def leapfrog_search(self):\n",
    "        max_key = self.iterators[(self.p-1)%self.k].key()\n",
    "        done = False\n",
    "        while(done != True):\n",
    "            least_key = self.iterators[self.p].key()\n",
    "            if(least_key==max_key):\n",
    "                done = True\n",
    "                return max_key\n",
    "            else:\n",
    "                self.iterators[self.p].seek(max_key)\n",
    "                if(self.iterators[self.p].itr_atEnd()):\n",
    "                    return None\n",
    "                else:\n",
    "                    max_key = self.iterators[self.p].key()\n",
    "                    self.p = (self.p+1)%self.k\n",
    "    #After the first result, repeated call leapfrog_next() to get following results.\n",
    "    def leapfrog_next(self):\n",
    "        self.iterators[self.p].next()\n",
    "        if(self.iterators[self.p].itr_atEnd()):\n",
    "            self.atEnd = True\n",
    "            return None\n",
    "        else:\n",
    "            self.p = (self.p+1)%self.k\n",
    "            return self.leapfrog_search()\n",
    "    #Locate the iterators at specific key\n",
    "    def leapfrog_seek(self,seekKey):\n",
    "        self.iterators[self.p].seek(seekKey)\n",
    "        if(self.iterators[self.p].itr_atEnd()):\n",
    "            self.atEnd = True\n",
    "            return None\n",
    "        else:\n",
    "            self.p = (self.p+1)%self.k\n",
    "            return self.leapfrog_search()\n",
    "            \n",
    "    def iterators_open(self):\n",
    "        for itr in self.iterators:\n",
    "            itr.open()\n",
    "    def iterators_up(self):\n",
    "        for itr in self.iterators:\n",
    "            itr.up()\n",
    "            \n",
    "    def get_depth(self):\n",
    "        return self.depth\n",
    "    \n"
   ]
  },
  {
   "cell_type": "markdown",
   "metadata": {},
   "source": [
    "## Leapfrog Triejoin"
   ]
  },
  {
   "cell_type": "code",
   "execution_count": 100,
   "metadata": {},
   "outputs": [],
   "source": [
    "#join of R(a,b), S(b,c), T(a,c)\n",
    "#in our problem, it is the join of E,E,E\n",
    "class leapfrog_triejoin:\n",
    "    def __init__(self,G):\n",
    "        #Create 3 iterators, each corresponds to R, S, T\n",
    "        self.iterators = [iterator(G),iterator(G),iterator(G)]\n",
    "        self.depth = -1\n",
    "        #Create 3 leapfrog join instances, each corresponds to R&T,R&S,S&T(& represents join)\n",
    "        self.leapfrog_join1 = leapfrog_join([self.iterators[0],self.iterators[2]],depth=0)\n",
    "        self.leapfrog_join2 = leapfrog_join([self.iterators[0],self.iterators[1]],depth=1)\n",
    "        self.leapfrog_join3 = leapfrog_join([self.iterators[1],self.iterators[2]],depth=2)\n",
    "        \n",
    "        self.leapfrog_joins = [self.leapfrog_join1,self.leapfrog_join2,self.leapfrog_join3]\n",
    "        \n",
    "    def triejoin_up(self):\n",
    "        for lpfj in self.leapfrog_joins:\n",
    "            if (lpfj.get_depth()==self.depth):\n",
    "                lpfj.iterators_up()\n",
    "        self.depth -= 1\n",
    "\n",
    "    def triejoin_open(self):\n",
    "        self.depth += 1\n",
    "        for lpfj in self.leapfrog_joins:\n",
    "            if (lpfj.get_depth()==self.depth):\n",
    "                lpfj.iterators_open()\n",
    "                return lpfj.leapfrog_init()\n",
    "\n",
    "\n",
    "    def run(self):\n",
    "        triangles = []\n",
    "        #itr0->a,itr2->a\n",
    "        a = self.triejoin_open()\n",
    "        while(a!=None):\n",
    "            #itr0->b,itr1->b\n",
    "            b = self.triejoin_open()\n",
    "            while(b!=None):\n",
    "                #itr1->c,itr2->c\n",
    "                c = self.triejoin_open()\n",
    "                while(c!=None):\n",
    "                    triangles.append((a,b,c))\n",
    "                    c = self.leapfrog_joins[2].leapfrog_next()\n",
    "                self.triejoin_up()\n",
    "                b = self.leapfrog_joins[1].leapfrog_next()\n",
    "            self.triejoin_up()\n",
    "            a = self.leapfrog_joins[0].leapfrog_next()\n",
    "        return triangles\n",
    "            \n",
    "            "
   ]
  },
  {
   "cell_type": "code",
   "execution_count": 121,
   "metadata": {},
   "outputs": [],
   "source": [
    "#We run each algorithm for each dataset 100 times, and record the time cost\n",
    "def main():\n",
    "    #for ca-GrQc:\n",
    "    cn_ca_t = []\n",
    "    lpfj_ca_t = []\n",
    "    G_ca = load_ca_grqc()\n",
    "    for _ in range(100):\n",
    "        #record c-n runtime\n",
    "        start_time = time.time()\n",
    "        Chiba_Nishizeki(G_ca)\n",
    "        cn_ca_t.append(time.time() - start_time)\n",
    "        #record wcoj runtime\n",
    "        start_time = time.time()\n",
    "        leapfrog_triejoin(G_ca)\n",
    "        lpfj_ca_t.append(time.time() - start_time)\n",
    "        \n",
    "    ca_t = [cn_ca_t,lpfj_ca_t]\n",
    "    \n",
    "    #for github social:\n",
    "    cn_gs_t = []\n",
    "    lpfj_gs_t = []\n",
    "    G_gs = load_github_social()\n",
    "    for _ in range(100):\n",
    "        #record c-n runtime\n",
    "        start_time = time.time()\n",
    "        Chiba_Nishizeki(G_gs)\n",
    "        cn_gs_t.append(time.time() - start_time)\n",
    "        #record wcoj runtime\n",
    "        start_time = time.time()\n",
    "        leapfrog_triejoin(G_gs)\n",
    "        lpfj_gs_t.append(time.time() - start_time)\n",
    "    gs_t = [cn_gs_t,lpfj_gs_t]\n",
    "    \n",
    "    #for web-berkstan:\n",
    "    cn_wb_t = []\n",
    "    lpfj_wb_t = []\n",
    "    G_wb = load_web_berkstan()\n",
    "    for _ in range(100):\n",
    "        #record c-n runtime\n",
    "        start_time = time.time()\n",
    "        Chiba_Nishizeki(G_wb)\n",
    "        cn_wb_t.append(time.time() - start_time)\n",
    "        #record wcoj runtime\n",
    "        start_time = time.time()\n",
    "        leapfrog_triejoin(G_wb)\n",
    "        lpfj_wb_t.append(time.time() - start_time)\n",
    "    \n",
    "    wb_t = [cn_wb_t,lpfj_wb_t]\n",
    "    \n",
    "    t = [ca_t,gs_t,wb_t]\n",
    "    \n",
    "    return t"
   ]
  },
  {
   "cell_type": "code",
   "execution_count": 122,
   "metadata": {},
   "outputs": [],
   "source": [
    "t = main()"
   ]
  },
  {
   "cell_type": "code",
   "execution_count": 123,
   "metadata": {},
   "outputs": [
    {
     "name": "stdout",
     "output_type": "stream",
     "text": [
      "CN mean: 0.0005760788917541504\n",
      "lpfj mean: 2.9039382934570312e-05\n",
      "CN mean: 0.022539486885070802\n",
      "lpfj mean: 9.55510139465332e-05\n",
      "CN mean: 0.12588831186294555\n",
      "lpfj mean: 0.002833690643310547\n"
     ]
    }
   ],
   "source": [
    "cn_mean = []\n",
    "lpfj_mean = []\n",
    "for t_i in t:\n",
    "    cn_i = t_i[0]\n",
    "    lpfj_i = t_i[1]\n",
    "    print(\"CN mean:\",np.mean(cn_i))\n",
    "    print(\"lpfj mean:\",np.mean(lpfj_i))\n",
    "    cn_mean.append(np.mean(cn_i))\n",
    "    lpfj_mean.append(np.mean(lpfj_i))"
   ]
  },
  {
   "cell_type": "code",
   "execution_count": 125,
   "metadata": {},
   "outputs": [],
   "source": [
    "from matplotlib import pyplot as plt"
   ]
  },
  {
   "cell_type": "code",
   "execution_count": 133,
   "metadata": {},
   "outputs": [
    {
     "data": {
      "image/png": "[encoded data removed]",
      "text/plain": [
       "<Figure size 864x576 with 1 Axes>"
      ]
     },
     "metadata": {
      "needs_background": "light"
     },
     "output_type": "display_data"
    }
   ],
   "source": [
    "names = ['ca-GrQc', 'github social', 'web-berkstan']\n",
    "#values_ = [1, 10, 100]\n",
    "\n",
    "plt.figure(figsize=(12, 8))\n",
    "\n",
    "plt.bar(names, cn_mean,label='Chiba-Nishizeki')\n",
    "plt.bar(names,lpfj_mean,label='WCOJ')\n",
    "\n",
    "plt.suptitle('Average run time')\n",
    "plt.legend()\n",
    "plt.show()"
   ]
  }
 ],
 "metadata": {
  "kernelspec": {
   "display_name": "Python 3",
   "language": "python",
   "name": "python3"
  },
  "language_info": {
   "codemirror_mode": {
    "name": "ipython",
    "version": 3
   },
   "file_extension": ".py",
   "mimetype": "text/x-python",
   "name": "python",
   "nbconvert_exporter": "python",
   "pygments_lexer": "ipython3",
   "version": "3.8.3"
  }
 },
 "nbformat": 4,
 "nbformat_minor": 4
}
