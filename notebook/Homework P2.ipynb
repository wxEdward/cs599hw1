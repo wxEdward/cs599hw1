{
 "cells": [
  {
   "cell_type": "markdown",
   "metadata": {},
   "source": [
    "## Problem 2"
   ]
  },
  {
   "cell_type": "code",
   "execution_count": 1,
   "metadata": {},
   "outputs": [],
   "source": [
    "import networkx as nx\n",
    "import numpy as np\n",
    "import pandas as pd\n",
    "import time\n",
    "import tracemalloc"
   ]
  },
  {
   "cell_type": "markdown",
   "metadata": {},
   "source": [
    "## Load ca-GrQc"
   ]
  },
  {
   "cell_type": "code",
   "execution_count": 16,
   "metadata": {},
   "outputs": [],
   "source": [
    "def load_ca_grqc():\n",
    "    data = pd.read_csv('CA-GrQc.txt', sep=\"\\t\", skiprows=3)\n",
    "    records = data.to_records(index=False)\n",
    "    edges = list(records)\n",
    "    G = nx.DiGraph()\n",
    "    G.add_edges_from(edges[:5000])\n",
    "    \n",
    "    return G"
   ]
  },
  {
   "cell_type": "markdown",
   "metadata": {},
   "source": [
    "## Color-coding"
   ]
  },
  {
   "cell_type": "code",
   "execution_count": 8,
   "metadata": {},
   "outputs": [],
   "source": [
    "def Chiba_Nishizeki(G):\n",
    "    nodes_degree_sorted = sorted(G.degree, key=lambda x: x[1], reverse=True)\n",
    "    nodes_sorted = [x[0] for x in nodes_degree_sorted]\n",
    "    num_nodes = len(G.nodes)\n",
    "    mark_dict = dict(zip(nodes_sorted,np.zeros(num_nodes)))\n",
    "    triangle_list = []\n",
    "    \n",
    "    for i in range(num_nodes-2):\n",
    "        v = nodes_sorted[i]\n",
    "        for u in G.neighbors(v):\n",
    "            mark_dict[u] = 1  \n",
    "        for u in G.neighbors(v):\n",
    "            for w in G.neighbors(u):\n",
    "                if(w!=v and mark_dict[w]==1):\n",
    "                    tri = {v,u,w}\n",
    "                    if(len(tri)==3):\n",
    "                        triangle_list.append(tri)\n",
    "            mark_dict[u] = 0   \n",
    "        G.remove_node(v)\n",
    "        \n",
    "    return triangle_list"
   ]
  },
  {
   "cell_type": "code",
   "execution_count": 9,
   "metadata": {},
   "outputs": [],
   "source": [
    "def color_coding(G,k):\n",
    "    num_nodes = len(G.nodes)\n",
    "    nodes_degree_sorted = sorted(G.degree, key=lambda x: x[1], reverse=True)\n",
    "    nodes_sorted = [x[0] for x in nodes_degree_sorted]\n",
    "    \n",
    "    colors = np.arange(1,3*k+1);\n",
    "    #random coloring V -> [3k]\n",
    "    labels = np.random.randint(1,3*k+1, size=num_nodes)\n",
    "    colors_dict = dict(zip(nodes_sorted,labels))\n",
    "    \n",
    "    #List all triangles\n",
    "    triangles = Chiba_Nishizeki(G)\n",
    "    \n",
    "    #List all base triangles, i.e., triangle whose nodes are of different colors\n",
    "    #Only record the color triples instead of the node triples\n",
    "    base_triangles = []\n",
    "    for triangle in triangles:\n",
    "        u,v,w = triangle\n",
    "        X_t = {colors_dict[u],colors_dict[v],colors_dict[w]}\n",
    "        if(len(X_t)==3):\n",
    "            base_triangles.append(X_t)\n",
    "\n",
    "    #Eliminate duplication of color triples\n",
    "    no_dup = []\n",
    "    for i in base_triangles:\n",
    "        if i not in no_dup:\n",
    "            no_dup.append(i)\n",
    "    \n",
    "    #Define complex triangles as subsets of colors with size 3i, i is an integer\n",
    "    #We grow size of subsets of colors by 3 iteratively\n",
    "    complex_triangles = no_dup\n",
    "    for i in np.arange(2,k+1):\n",
    "        new_complex = []\n",
    "        for t_1 in no_dup:\n",
    "            for t_2 in complex_triangles:\n",
    "                t_3 = t_1.union(t_2)\n",
    "                if(len(t_3)==3*i and t_3 not in new_complex):\n",
    "                    new_complex.append(t_3)\n",
    "        complex_triangles = new_complex\n",
    "    \n",
    "    #if we finally get the color set with size 3*k, we have k node disjoint triangles\n",
    "    if(len(complex_triangles)>0):\n",
    "        return 1\n",
    "    else:\n",
    "        return 0"
   ]
  },
  {
   "cell_type": "code",
   "execution_count": 14,
   "metadata": {},
   "outputs": [
    {
     "name": "stdout",
     "output_type": "stream",
     "text": [
      "k= 5 :\n",
      "average time cost: 8.846486883163453e-05\n",
      "total time cost: 884.6486883163452\n",
      "average memory usage: 657.1047714\n",
      "total number of success: 0.0\n",
      "k= 10 :\n",
      "average time cost: 8.980419538021088e-05\n",
      "total time cost: 898.0419538021088\n",
      "average memory usage: 658.7448999\n",
      "total number of success: 0.0\n",
      "k= 15 :\n",
      "average time cost: 8.898726320266724e-05\n",
      "total time cost: 889.8726320266724\n",
      "average memory usage: 672.88842565\n",
      "total number of success: 0.0\n",
      "k= 20 :\n",
      "average time cost: 0.00017188118638992308\n",
      "total time cost: 1718.811863899231\n",
      "average memory usage: 646.65905115\n",
      "total number of success: 0.0\n"
     ]
    }
   ],
   "source": [
    "G = load_ca_grqc()\n",
    "time_cost = []\n",
    "memory = []\n",
    "output = []\n",
    "    \n",
    "ks = [5,10,15,20]\n",
    "for k in ks:\n",
    "    sub_time = []\n",
    "    sub_memory = []\n",
    "    sub_output = []\n",
    "    for _ in range(10000000):\n",
    "        start_time = time.time()\n",
    "        tracemalloc.start()\n",
    "        output.append(color_coding(G,k))\n",
    "        sub_time.append(time.time() - start_time)\n",
    "        sub_memory.append(tracemalloc.get_traced_memory())\n",
    "        tracemalloc.stop()\n",
    "    time_cost.append(sub_time)\n",
    "    memory.append(sub_memory)\n",
    "    output.append(sub_output)\n",
    "    print(\"k=\",k,\":\")\n",
    "    print(\"average time cost:\",np.mean(sub_time))\n",
    "    print(\"total time cost:\",np.sum(sub_time))\n",
    "    print(\"average memory usage:\",np.mean(sub_memory))\n",
    "    print(\"total number of success:\",np.sum(sub_output))"
   ]
  }
 ],
 "metadata": {
  "kernelspec": {
   "display_name": "Python 3",
   "language": "python",
   "name": "python3"
  },
  "language_info": {
   "codemirror_mode": {
    "name": "ipython",
    "version": 3
   },
   "file_extension": ".py",
   "mimetype": "text/x-python",
   "name": "python",
   "nbconvert_exporter": "python",
   "pygments_lexer": "ipython3",
   "version": "3.8.3"
  }
 },
 "nbformat": 4,
 "nbformat_minor": 4
}
